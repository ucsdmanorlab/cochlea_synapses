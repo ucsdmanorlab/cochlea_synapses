{
 "cells": [
  {
   "cell_type": "code",
   "execution_count": 2,
   "id": "f88e4f9e-9966-438e-8f17-d8b516ac0793",
   "metadata": {},
   "outputs": [],
   "source": [
    "import warnings\n",
    "import numpy as np\n",
    "import pandas as pd\n",
    "\n",
    "from aicsimageio import AICSImage\n",
    "from tqdm import tqdm\n",
    "\n",
    "from scipy.ndimage import gaussian_filter, binary_closing, distance_transform_edt, center_of_mass\n",
    "from skimage.feature import peak_local_max\n",
    "from skimage.measure import label, regionprops\n",
    "from skimage.segmentation import watershed\n",
    "\n",
    "warnings.filterwarnings(\"ignore\", message=\"Failed to get convex hull image.\")"
   ]
  },
  {
   "cell_type": "code",
   "execution_count": 5,
   "id": "d9bb32e0-ec9b-4afc-99a2-d4d77d0948ae",
   "metadata": {},
   "outputs": [],
   "source": [
    "imfi = \"WPZ104L.CtBP2.GluR2.NF.Myo7.IHC.11.3.v2.am\"\n",
    "data = AICSImage(imfi)"
   ]
  },
  {
   "cell_type": "code",
   "execution_count": 4,
   "id": "c9afa153-41b0-4968-acd6-0fedf6ac1dca",
   "metadata": {},
   "outputs": [],
   "source": [
    "xy_pix = data.physical_pixel_sizes.X\n",
    "z_pix = data.physical_pixel_sizes.Z"
   ]
  },
  {
   "cell_type": "code",
   "execution_count": 6,
   "id": "60c58479-704a-4645-9d25-d4e78cf0d595",
   "metadata": {},
   "outputs": [],
   "source": [
    "csvfi = imfi.replace(\".am\", \".iso45r.csv\") #WPZ104L.CtBP2.GluR2.NF.Myo7.IHC.11.3.v2.iso45r.csv\""
   ]
  },
  {
   "cell_type": "code",
   "execution_count": 12,
   "id": "ea9e3895-5891-4bbd-81e6-06e215639600",
   "metadata": {},
   "outputs": [],
   "source": [
    "pts = amira_readpos(csvfi, xy_pix, z_pix)"
   ]
  },
  {
   "cell_type": "code",
   "execution_count": 13,
   "id": "66624e9f-3593-4a06-b6e5-f758f5bbaf0d",
   "metadata": {},
   "outputs": [],
   "source": [
    "img = amira_fixshape(data,2)"
   ]
  },
  {
   "cell_type": "code",
   "execution_count": 14,
   "id": "564f194a-6e73-4bce-bbfa-51126758e565",
   "metadata": {},
   "outputs": [
    {
     "name": "stdout",
     "output_type": "stream",
     "text": [
      "pre-processing image...\n",
      "finding peaks...\n"
     ]
    },
    {
     "name": "stderr",
     "output_type": "stream",
     "text": [
      "100%|███████████████████████████████████████████| 157/157 [00:00<00:00, 1173.17it/s]\n"
     ]
    },
    {
     "name": "stdout",
     "output_type": "stream",
     "text": [
      "masking...\n"
     ]
    },
    {
     "name": "stderr",
     "output_type": "stream",
     "text": [
      "100%|█████████████████████████████████████████████| 157/157 [04:00<00:00,  1.53s/it]\n"
     ]
    }
   ],
   "source": [
    "labels = pts_to_labels(img, \n",
    "    pts, snap_to_max=False)"
   ]
  },
  {
   "cell_type": "code",
   "execution_count": 8,
   "id": "4d6baf96-38ad-41bd-991c-178850779815",
   "metadata": {},
   "outputs": [],
   "source": [
    "def amira_fixshape(data, ch):\n",
    "    cropx = ch*4\n",
    "    left_part = data.get_image_dask_data(\"ZYX\", T=0, C=ch)[:,:,cropx::]\n",
    "    right_part = data.get_image_dask_data(\"ZYX\", T=0, C=ch)[:,:,0:cropx]\n",
    "    img = np.concatenate((left_part, right_part), axis=2)\n",
    "    return img"
   ]
  },
  {
   "cell_type": "code",
   "execution_count": 9,
   "id": "8cfe31f6-d29d-4d1e-be7e-b85f387a0635",
   "metadata": {},
   "outputs": [],
   "source": [
    "def amira_readpos(csvfi, xy_res, z_res):\n",
    "    pts = pd.read_csv(csvfi, usecols=['CenterX', 'CenterY', 'CenterZ'])\n",
    "    pts = [pts['CenterX']/xy_res, pts['CenterY']/xy_res, pts['CenterZ']/z_res]\n",
    "    pts = np.array(pts)\n",
    "    \n",
    "    return pts\n"
   ]
  },
  {
   "cell_type": "code",
   "execution_count": 10,
   "id": "6ec7d43a-52fd-4d4a-80ed-575815acdee4",
   "metadata": {},
   "outputs": [],
   "source": [
    "def get_slices(rad_xy, rad_z, loc, shape):\n",
    "    x1 = max(loc[2] - rad_xy, 0) ; \n",
    "    x2 = min(loc[2] + rad_xy, shape[2]) ; \n",
    "    y1 = max(loc[1] - rad_xy, 0) ; \n",
    "    y2 = min(loc[1] + rad_xy, shape[1]) ; \n",
    "    z1 = max(loc[0] - rad_z, 0) ; \n",
    "    z2 = min(loc[0] + rad_z, shape[0]) ;\n",
    "    relx = loc[2] - x1 ;\n",
    "    rely = loc[1] - y1 ;\n",
    "    relz = loc[0] - z1 ;\n",
    "    \n",
    "    return slice(z1,z2), slice(y1,y2), slice(x1,x2), [relz, rely, relx]\n",
    "\n",
    "def dist_watershed_sep(mask, loc):\n",
    "    dists = distance_transform_edt(mask, sampling=[4,1,1])\n",
    "    \n",
    "    indices = peak_local_max(dists, labels=mask)\n",
    "    pks = np.zeros(dists.shape, dtype=bool)\n",
    "    pks[tuple(indices.T)] = True\n",
    "\n",
    "    pk_labels = label(pks)\n",
    "    if pk_labels.max()>1:\n",
    "        merged_peaks = center_of_mass(pks, pk_labels, index=range(1, pk_labels.max()+1))\n",
    "        merged_peaks = np.round(merged_peaks).astype('int')\n",
    "        \n",
    "        markers = np.zeros_like(mask, dtype='int')\n",
    "        for i in range(merged_peaks.shape[0]):\n",
    "            markers[merged_peaks[i,0], merged_peaks[i,1], merged_peaks[i,2]] = i+1\n",
    "\n",
    "        labels = watershed(-dists, markers=markers, mask=mask)\n",
    "        wantLabel = labels[loc[0], loc[1], loc[2]] \n",
    "        mask_out = labels == wantLabel\n",
    "    \n",
    "    else:\n",
    "        mask_out = mask\n",
    "    \n",
    "    return mask_out"
   ]
  },
  {
   "cell_type": "code",
   "execution_count": 11,
   "id": "aa1fc5f1-9b7e-4269-bf1f-a3cd4d664c54",
   "metadata": {},
   "outputs": [],
   "source": [
    "def pts_to_labels(\n",
    "    img, \n",
    "    pts,\n",
    "    snap_to_max = True,\n",
    "    snap_rad = 1,\n",
    "    max_rad_xy = 2,\n",
    "    max_rad_z = 1,\n",
    "    rad_xy = 4,\n",
    "    rad_z = 3,\n",
    "    blur_sig = [0.5, 0.7, 0.7], # z, y, x\n",
    "    ):\n",
    "    \n",
    "    x = pts[0,:]\n",
    "    y = pts[1,:]\n",
    "    z = pts[2,:]\n",
    "    n = x.shape[0]\n",
    "\n",
    "    print(\"pre-processing image...\")\n",
    "    img_inv = gaussian_filter(img.min()+img.max() - img, blur_sig)\n",
    "\n",
    "    w = img.shape[2]\n",
    "    h = img.shape[1]\n",
    "    d = img.shape[0]\n",
    "\n",
    "    print(\"finding peaks...\")\n",
    "    # make markers:\n",
    "    markers = np.zeros_like(img, dtype='int')\n",
    "\n",
    "    for j in tqdm(range(n)):\n",
    "        pos = np.round([z[j], y[j], x[j]]).astype('int')\n",
    "        if snap_to_max:\n",
    "            zrange, yrange, xrange, rel_pos = get_slices(snap_rad, snap_rad, pos, img.shape)\n",
    "            pointIntensity = img_inv[zrange, yrange, xrange]\n",
    "\n",
    "            shift = np.unravel_index(np.argmin(pointIntensity), pointIntensity.shape)\n",
    "            shift = np.asarray(shift)-snap_rad\n",
    "\n",
    "            z[j] = z[j] + shift[0]\n",
    "            y[j] = y[j] + shift[1]\n",
    "            x[j] = x[j] + shift[2]\n",
    "            \n",
    "            pos = np.round([z[j], y[j], x[j]]).astype('int')  \n",
    "        markers[pos[0], pos[1], pos[2]] = j+1\n",
    "\n",
    "    print(\"masking...\")\n",
    "    # make mask:\n",
    "    mask = np.zeros_like(img, dtype='bool')\n",
    "\n",
    "    for j in tqdm(range(n)):\n",
    "        pos = np.round([z[j], y[j], x[j]]).astype('int')\n",
    "        pointIntensity = img_inv[pos[0], pos[1], pos[2]]\n",
    "        \n",
    "        # find local min (inverted max) value:\n",
    "        zrange, yrange, xrange, rel_pos = get_slices(max_rad_xy, max_rad_z, pos, img.shape)\n",
    "        subim = img_inv[zrange, yrange, xrange]        \n",
    "        local_min = subim.min() \n",
    "        \n",
    "        # get local region to threshold, find local min value:\n",
    "        zrange, yrange, xrange, rel_pos = get_slices(rad_xy, rad_z, pos, img.shape)\n",
    "        subim = img_inv[zrange, yrange, xrange]\n",
    "        local_max = subim.max() # background\n",
    "        \n",
    "        # threshold:\n",
    "        thresh = 0.5*local_min + 0.5*local_max \n",
    "        if thresh < pointIntensity:\n",
    "            print(\"threshold overriden for spot \"+str(j)+\" \"+str(thresh)+\" \"+str(pointIntensity))\n",
    "            thresh = 0.5*local_max + 0.5*pointIntensity\n",
    "        subim_mask = subim <= thresh\n",
    "        \n",
    "        # check for multiple objects:\n",
    "        sublabels = label(subim_mask)\n",
    "        if sublabels.max() > 1:\n",
    "            wantLabel = sublabels[rel_pos[0], rel_pos[1], rel_pos[2]] \n",
    "            subim_mask = sublabels == wantLabel\n",
    "            \n",
    "            # recheck max:\n",
    "            thresh2 = 0.5*subim[subim_mask].min() + 0.5*subim.max()\n",
    "            if thresh < thresh2:\n",
    "                subim_mask = subim <= thresh2\n",
    "                sublabels = label(subim_mask)\n",
    "                wantLabel = sublabels[rel_pos[0], rel_pos[1], rel_pos[2]] \n",
    "                subim_mask = sublabels == wantLabel\n",
    "        \n",
    "        pt_solidity = regionprops(subim_mask.astype('int'))[0].solidity\n",
    "        \n",
    "        if pt_solidity < 0.8:\n",
    "            subim_mask = dist_watershed_sep(subim_mask, rel_pos)\n",
    "        \n",
    "        submask = mask[zrange, yrange, xrange]\n",
    "        submask = np.logical_or(submask, subim_mask)\n",
    "\n",
    "        mask[zrange, yrange, xrange] = submask\n",
    "        \n",
    "    outlabels = watershed(img_inv, markers=np.array(markers), mask=mask)\n",
    "    \n",
    "    return outlabels"
   ]
  },
  {
   "cell_type": "code",
   "execution_count": null,
   "id": "1717d506-df93-4149-9e64-beb62c2bc454",
   "metadata": {},
   "outputs": [],
   "source": []
  }
 ],
 "metadata": {
  "kernelspec": {
   "display_name": "Python 3 (ipykernel)",
   "language": "python",
   "name": "python3"
  },
  "language_info": {
   "codemirror_mode": {
    "name": "ipython",
    "version": 3
   },
   "file_extension": ".py",
   "mimetype": "text/x-python",
   "name": "python",
   "nbconvert_exporter": "python",
   "pygments_lexer": "ipython3",
   "version": "3.8.18"
  }
 },
 "nbformat": 4,
 "nbformat_minor": 5
}
